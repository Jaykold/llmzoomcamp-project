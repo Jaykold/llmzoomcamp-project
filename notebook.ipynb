{
 "cells": [
  {
   "cell_type": "code",
   "execution_count": 1,
   "id": "66ecec8e",
   "metadata": {},
   "outputs": [
    {
     "name": "stderr",
     "output_type": "stream",
     "text": [
      "/home/jaykold/dev/llm-project/.venv/lib/python3.12/site-packages/tqdm/auto.py:21: TqdmWarning: IProgress not found. Please update jupyter and ipywidgets. See https://ipywidgets.readthedocs.io/en/stable/user_install.html\n",
      "  from .autonotebook import tqdm as notebook_tqdm\n"
     ]
    }
   ],
   "source": [
    "from datasets import load_dataset\n",
    "import pandas as pd"
   ]
  },
  {
   "cell_type": "code",
   "execution_count": 2,
   "id": "956582dc",
   "metadata": {},
   "outputs": [],
   "source": [
    "#full_data = load_dataset(\"squad_v2\", split=\"train\")"
   ]
  },
  {
   "cell_type": "code",
   "execution_count": 3,
   "id": "aede461b",
   "metadata": {},
   "outputs": [],
   "source": [
    "# shuffled_data = full_data.shuffle(seed=42)\n",
    "\n",
    "# type(shuffled_data)"
   ]
  },
  {
   "cell_type": "code",
   "execution_count": 4,
   "id": "f786366d",
   "metadata": {},
   "outputs": [],
   "source": [
    "# shuffled_data = pd.DataFrame(shuffled_data)"
   ]
  },
  {
   "cell_type": "code",
   "execution_count": 5,
   "id": "e3409ccb",
   "metadata": {},
   "outputs": [],
   "source": [
    "# shuffled_data.head()"
   ]
  },
  {
   "cell_type": "code",
   "execution_count": null,
   "id": "a4a1808c",
   "metadata": {},
   "outputs": [],
   "source": [
    "#shuffled_data.to_csv(\"data/squad_v2.csv\")\n",
    "# data = shuffled_data.head(600)"
   ]
  },
  {
   "cell_type": "code",
   "execution_count": null,
   "id": "bfe66101",
   "metadata": {},
   "outputs": [
    {
     "data": {
      "text/plain": [
       "0                     Canon_law\n",
       "1      Athanasius_of_Alexandria\n",
       "2         Jehovah%27s_Witnesses\n",
       "3                       Estonia\n",
       "4               Classical_music\n",
       "                 ...           \n",
       "595     Northwestern_University\n",
       "596                       Paper\n",
       "597                    Zhejiang\n",
       "598    Brigham_Young_University\n",
       "599                     YouTube\n",
       "Name: title, Length: 600, dtype: object"
      ]
     },
     "execution_count": 87,
     "metadata": {},
     "output_type": "execute_result"
    }
   ],
   "source": [
    "# df = pd.DataFrame(data)\n",
    "# df['title']"
   ]
  },
  {
   "cell_type": "code",
   "execution_count": null,
   "id": "e1da28bf",
   "metadata": {},
   "outputs": [],
   "source": [
    "# df.to_json(\"data/squad_v2_600.json\", orient=\"records\", indent=2)"
   ]
  },
  {
   "cell_type": "code",
   "execution_count": 6,
   "id": "196fb554",
   "metadata": {},
   "outputs": [],
   "source": [
    "import json\n",
    "\n",
    "with open(\"data/squad_v2_600.json\", \"r\", encoding=\"utf-8\") as f:\n",
    "    data = json.load(f)"
   ]
  },
  {
   "cell_type": "code",
   "execution_count": 7,
   "id": "48b848ea",
   "metadata": {},
   "outputs": [
    {
     "data": {
      "text/plain": [
       "{'id': '57325c2fe99e3014001e6716',\n",
       " 'title': 'Jehovah%27s_Witnesses',\n",
       " 'context': 'Sociologist Rodney Stark states that Jehovah\\'s Witness leaders are \"not always very democratic\" and that members \"are expected to conform to rather strict standards,\" but adds that \"enforcement tends to be very informal, sustained by the close bonds of friendship within the group\", and that Jehovah\\'s Witnesses see themselves as \"part of the power structure rather than subject to it.\" Sociologist Andrew Holden states that most members who join millenarian movements such as Jehovah\\'s Witnesses have made an informed choice. However, he also states that defectors \"are seldom allowed a dignified exit\", and describes the administration as autocratic.',\n",
       " 'question': \"How do Jehovah's Witnesses see themselves in regards to the power structure of the church?\",\n",
       " 'answers': {'text': ['\"part of the power structure rather than subject to it.\"'],\n",
       "  'answer_start': [330]}}"
      ]
     },
     "execution_count": 7,
     "metadata": {},
     "output_type": "execute_result"
    }
   ],
   "source": [
    "data[11]"
   ]
  },
  {
   "cell_type": "code",
   "execution_count": 8,
   "id": "fd556bc1",
   "metadata": {},
   "outputs": [],
   "source": [
    "from urllib.parse import unquote\n",
    "\n",
    "def clean_text(value):\n",
    "    \"\"\"Decode unicode escapes and URL encodings in a string.\"\"\"\n",
    "    if not isinstance(value, str):\n",
    "        return value\n",
    "    try:\n",
    "        # Decode URL-encoded characters (%20, %27, etc.)\n",
    "        value = unquote(value)\n",
    "        # Decode unicode escapes (\\u00f3 etc.)\n",
    "        #value = value.encode('utf-8').decode('unicode_escape')\n",
    "        # Decode Python-style backslash escapes (e.g., \\' -> ')\n",
    "        #value = value.encode('utf-8').decode('unicode_escape')\n",
    "        # Replace underscores with spaces in certain cases\n",
    "        value = value.replace('_', ' ')\n",
    "        return value\n",
    "    except Exception:\n",
    "        return value  # Fail silently if decoding fails\n",
    "\n",
    "def clean_data(obj):\n",
    "    \"\"\"Recursively clean all strings in a nested structure.\"\"\"\n",
    "    if isinstance(obj, dict):\n",
    "        return {k: clean_data(v) for k, v in obj.items()}\n",
    "    elif isinstance(obj, list):\n",
    "        return [clean_data(item) for item in obj]\n",
    "    elif isinstance(obj, str):\n",
    "        return clean_text(obj)\n",
    "    else:\n",
    "        return obj\n"
   ]
  },
  {
   "cell_type": "code",
   "execution_count": 9,
   "id": "a3e5543a",
   "metadata": {},
   "outputs": [],
   "source": [
    "cleaned_data = clean_data(data)"
   ]
  },
  {
   "cell_type": "code",
   "execution_count": 15,
   "id": "ebe74a1d",
   "metadata": {},
   "outputs": [
    {
     "data": {
      "text/plain": [
       "'part of the power structure rather than subject to it.'"
      ]
     },
     "execution_count": 15,
     "metadata": {},
     "output_type": "execute_result"
    }
   ],
   "source": [
    "cleaned_data[11]['answers']['text'][0].replace('\"', \"\")"
   ]
  },
  {
   "cell_type": "code",
   "execution_count": 16,
   "id": "5e9cacc2",
   "metadata": {},
   "outputs": [],
   "source": [
    "documents = []\n",
    "\n",
    "for item in cleaned_data:\n",
    "    if not item['answers']['text']:\n",
    "        continue\n",
    "\n",
    "    documents.append({\n",
    "        \"id\": item[\"id\"],\n",
    "        'title': item['title'],\n",
    "        \"context\": item['context'].replace(\"\\n\", \" \"),\n",
    "        \"question\": item['question'].replace(\"\\n\", \" \"),\n",
    "        \"answer\": item['answers']['text'][0].replace('\"', \"\")\n",
    "    })"
   ]
  },
  {
   "cell_type": "code",
   "execution_count": 17,
   "id": "fc88a13e",
   "metadata": {},
   "outputs": [
    {
     "data": {
      "text/plain": [
       "{'id': '57325c2fe99e3014001e6716',\n",
       " 'title': \"Jehovah's Witnesses\",\n",
       " 'context': 'Sociologist Rodney Stark states that Jehovah\\'s Witness leaders are \"not always very democratic\" and that members \"are expected to conform to rather strict standards,\" but adds that \"enforcement tends to be very informal, sustained by the close bonds of friendship within the group\", and that Jehovah\\'s Witnesses see themselves as \"part of the power structure rather than subject to it.\" Sociologist Andrew Holden states that most members who join millenarian movements such as Jehovah\\'s Witnesses have made an informed choice. However, he also states that defectors \"are seldom allowed a dignified exit\", and describes the administration as autocratic.',\n",
       " 'question': \"How do Jehovah's Witnesses see themselves in regards to the power structure of the church?\",\n",
       " 'answer': 'part of the power structure rather than subject to it.'}"
      ]
     },
     "execution_count": 17,
     "metadata": {},
     "output_type": "execute_result"
    }
   ],
   "source": [
    "documents[10]"
   ]
  },
  {
   "cell_type": "code",
   "execution_count": null,
   "id": "1c61f6a1",
   "metadata": {},
   "outputs": [],
   "source": []
  },
  {
   "cell_type": "markdown",
   "id": "7610d850",
   "metadata": {},
   "source": [
    "##### Hybrid Search"
   ]
  },
  {
   "cell_type": "code",
   "execution_count": 20,
   "id": "e3c9edd0",
   "metadata": {},
   "outputs": [
    {
     "name": "stderr",
     "output_type": "stream",
     "text": [
      "\u001b[0;93m2025-10-14 15:01:26.341257297 [W:onnxruntime:Default, device_discovery.cc:164 DiscoverDevicesForPlatform] GPU device discovery failed: device_discovery.cc:89 ReadFileContents Failed to open file: \"/sys/class/drm/card0/device/vendor\"\u001b[m\n"
     ]
    }
   ],
   "source": [
    "from qdrant_client import models, QdrantClient\n",
    "from fastembed import TextEmbedding"
   ]
  },
  {
   "cell_type": "code",
   "execution_count": 28,
   "id": "4949c42f",
   "metadata": {},
   "outputs": [],
   "source": [
    "#client = QdrantClient(\"localhost\", port=6333)"
   ]
  },
  {
   "cell_type": "code",
   "execution_count": null,
   "id": "019dba58",
   "metadata": {},
   "outputs": [
    {
     "name": "stdout",
     "output_type": "stream",
     "text": [
      "{\n",
      "  \"model\": \"BAAI/bge-small-zh-v1.5\",\n",
      "  \"sources\": {\n",
      "    \"hf\": \"Qdrant/bge-small-zh-v1.5\",\n",
      "    \"url\": \"https://storage.googleapis.com/qdrant-fastembed/fast-bge-small-zh-v1.5.tar.gz\",\n",
      "    \"_deprecated_tar_struct\": true\n",
      "  },\n",
      "  \"model_file\": \"model_optimized.onnx\",\n",
      "  \"description\": \"Text embeddings, Unimodal (text), Chinese, 512 input tokens truncation, Prefixes for queries/documents: not so necessary, 2023 year.\",\n",
      "  \"license\": \"mit\",\n",
      "  \"size_in_GB\": 0.09,\n",
      "  \"additional_files\": [],\n",
      "  \"dim\": 512,\n",
      "  \"tasks\": {}\n",
      "}\n",
      "{\n",
      "  \"model\": \"Qdrant/clip-ViT-B-32-text\",\n",
      "  \"sources\": {\n",
      "    \"hf\": \"Qdrant/clip-ViT-B-32-text\",\n",
      "    \"url\": null,\n",
      "    \"_deprecated_tar_struct\": false\n",
      "  },\n",
      "  \"model_file\": \"model.onnx\",\n",
      "  \"description\": \"Text embeddings, Multimodal (text&image), English, 77 input tokens truncation, Prefixes for queries/documents: not necessary, 2021 year\",\n",
      "  \"license\": \"mit\",\n",
      "  \"size_in_GB\": 0.25,\n",
      "  \"additional_files\": [],\n",
      "  \"dim\": 512,\n",
      "  \"tasks\": {}\n",
      "}\n",
      "{\n",
      "  \"model\": \"jinaai/jina-embeddings-v2-small-en\",\n",
      "  \"sources\": {\n",
      "    \"hf\": \"xenova/jina-embeddings-v2-small-en\",\n",
      "    \"url\": null,\n",
      "    \"_deprecated_tar_struct\": false\n",
      "  },\n",
      "  \"model_file\": \"onnx/model.onnx\",\n",
      "  \"description\": \"Text embeddings, Unimodal (text), English, 8192 input tokens truncation, Prefixes for queries/documents: not necessary, 2023 year.\",\n",
      "  \"license\": \"apache-2.0\",\n",
      "  \"size_in_GB\": 0.12,\n",
      "  \"additional_files\": [],\n",
      "  \"dim\": 512,\n",
      "  \"tasks\": {}\n",
      "}\n"
     ]
    }
   ],
   "source": [
    "ENBEDDING_DIMENSIONALITY=512\n",
    "\n",
    "for model in TextEmbedding.list_supported_models():\n",
    "    if model['dim'] == ENBEDDING_DIMENSIONALITY:\n",
    "        print(json.dumps(model, indent=2))"
   ]
  },
  {
   "cell_type": "code",
   "execution_count": 27,
   "id": "194a8267",
   "metadata": {},
   "outputs": [],
   "source": [
    "embedding_model=\"jinaai/jina-embeddings-v2-small-en\""
   ]
  },
  {
   "cell_type": "code",
   "execution_count": null,
   "id": "59d13c7c",
   "metadata": {},
   "outputs": [],
   "source": [
    "collection_name=\"vector_rag\"\n",
    "\n",
    "# Create a collection with specified vector parameters\n",
    "client.create_collection(\n",
    "    collection_name=collection_name,\n",
    "    vectors_config=models.VectorParams(\n",
    "        size=ENBEDDING_DIMENSIONALITY,\n",
    "        distance=models.Distance.COSINE\n",
    "    )\n",
    ")"
   ]
  }
 ],
 "metadata": {
  "kernelspec": {
   "display_name": "llm-project (3.12.3)",
   "language": "python",
   "name": "python3"
  },
  "language_info": {
   "codemirror_mode": {
    "name": "ipython",
    "version": 3
   },
   "file_extension": ".py",
   "mimetype": "text/x-python",
   "name": "python",
   "nbconvert_exporter": "python",
   "pygments_lexer": "ipython3",
   "version": "3.12.3"
  }
 },
 "nbformat": 4,
 "nbformat_minor": 5
}
