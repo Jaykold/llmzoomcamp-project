{
 "cells": [
  {
   "cell_type": "code",
   "execution_count": 1,
   "id": "66ecec8e",
   "metadata": {},
   "outputs": [
    {
     "name": "stderr",
     "output_type": "stream",
     "text": [
      "/home/jaykold/dev/llm-project/.venv/lib/python3.12/site-packages/tqdm/auto.py:21: TqdmWarning: IProgress not found. Please update jupyter and ipywidgets. See https://ipywidgets.readthedocs.io/en/stable/user_install.html\n",
      "  from .autonotebook import tqdm as notebook_tqdm\n"
     ]
    }
   ],
   "source": [
    "from datasets import load_dataset\n",
    "import pandas as pd"
   ]
  },
  {
   "cell_type": "code",
   "execution_count": 2,
   "id": "956582dc",
   "metadata": {},
   "outputs": [
    {
     "name": "stderr",
     "output_type": "stream",
     "text": [
      "'(MaxRetryError('HTTPSConnectionPool(host=\\'huggingface.co\\', port=443): Max retries exceeded with url: /datasets/squad_v2/resolve/main/README.md (Caused by NameResolutionError(\"<urllib3.connection.HTTPSConnection object at 0x7fc1fb557230>: Failed to resolve \\'huggingface.co\\' ([Errno -3] Temporary failure in name resolution)\"))'), '(Request ID: 4f133381-de0c-40c7-b529-ae141cec521b)')' thrown while requesting HEAD https://huggingface.co/datasets/squad_v2/resolve/main/README.md\n",
      "Retrying in 1s [Retry 1/5].\n",
      "Generating train split: 100%|██████████| 130319/130319 [00:00<00:00, 211934.08 examples/s]\n",
      "Generating validation split: 100%|██████████| 11873/11873 [00:00<00:00, 193735.64 examples/s]\n"
     ]
    }
   ],
   "source": [
    "full_data = load_dataset(\"squad_v2\", split=\"train\")"
   ]
  },
  {
   "cell_type": "code",
   "execution_count": 3,
   "id": "aede461b",
   "metadata": {},
   "outputs": [
    {
     "data": {
      "text/plain": [
       "datasets.arrow_dataset.Dataset"
      ]
     },
     "execution_count": 3,
     "metadata": {},
     "output_type": "execute_result"
    }
   ],
   "source": [
    "shuffled_data = full_data.shuffle(seed=42)\n",
    "\n",
    "type(shuffled_data)"
   ]
  },
  {
   "cell_type": "code",
   "execution_count": 4,
   "id": "f786366d",
   "metadata": {},
   "outputs": [],
   "source": [
    "shuffled_data = pd.DataFrame(shuffled_data)"
   ]
  },
  {
   "cell_type": "code",
   "execution_count": 5,
   "id": "e3409ccb",
   "metadata": {},
   "outputs": [
    {
     "data": {
      "text/html": [
       "<div>\n",
       "<style scoped>\n",
       "    .dataframe tbody tr th:only-of-type {\n",
       "        vertical-align: middle;\n",
       "    }\n",
       "\n",
       "    .dataframe tbody tr th {\n",
       "        vertical-align: top;\n",
       "    }\n",
       "\n",
       "    .dataframe thead th {\n",
       "        text-align: right;\n",
       "    }\n",
       "</style>\n",
       "<table border=\"1\" class=\"dataframe\">\n",
       "  <thead>\n",
       "    <tr style=\"text-align: right;\">\n",
       "      <th></th>\n",
       "      <th>id</th>\n",
       "      <th>title</th>\n",
       "      <th>context</th>\n",
       "      <th>question</th>\n",
       "      <th>answers</th>\n",
       "    </tr>\n",
       "  </thead>\n",
       "  <tbody>\n",
       "    <tr>\n",
       "      <th>0</th>\n",
       "      <td>56e0f3907aa994140058e80a</td>\n",
       "      <td>Canon_law</td>\n",
       "      <td>The Roman Catholic Church canon law also inclu...</td>\n",
       "      <td>What term characterizes the intersection of th...</td>\n",
       "      <td>{'text': ['full union'], 'answer_start': [104]}</td>\n",
       "    </tr>\n",
       "    <tr>\n",
       "      <th>1</th>\n",
       "      <td>571adcf932177014007e9f56</td>\n",
       "      <td>Athanasius_of_Alexandria</td>\n",
       "      <td>Alexandria was the most important trade center...</td>\n",
       "      <td>What was Alexandria known for?</td>\n",
       "      <td>{'text': ['important trade center'], 'answer_s...</td>\n",
       "    </tr>\n",
       "    <tr>\n",
       "      <th>2</th>\n",
       "      <td>57325b9fe99e3014001e670c</td>\n",
       "      <td>Jehovah%27s_Witnesses</td>\n",
       "      <td>Former members Heather and Gary Botting compar...</td>\n",
       "      <td>How do the leaders of the Jehovah's Witnesses ...</td>\n",
       "      <td>{'text': ['disparaging individual decision-mak...</td>\n",
       "    </tr>\n",
       "    <tr>\n",
       "      <th>3</th>\n",
       "      <td>5728d8be4b864d1900164f6b</td>\n",
       "      <td>Estonia</td>\n",
       "      <td>Historically, the cuisine of Estonia has been ...</td>\n",
       "      <td>What are the most common foods in Estonia?</td>\n",
       "      <td>{'text': ['black bread, pork, potatoes, and da...</td>\n",
       "    </tr>\n",
       "    <tr>\n",
       "      <th>4</th>\n",
       "      <td>56f6f5e1711bf01900a44898</td>\n",
       "      <td>Classical_music</td>\n",
       "      <td>Many of the instruments used to perform mediev...</td>\n",
       "      <td>What was the medieval flute made from?</td>\n",
       "      <td>{'text': ['wood'], 'answer_start': [126]}</td>\n",
       "    </tr>\n",
       "  </tbody>\n",
       "</table>\n",
       "</div>"
      ],
      "text/plain": [
       "                         id                     title  \\\n",
       "0  56e0f3907aa994140058e80a                 Canon_law   \n",
       "1  571adcf932177014007e9f56  Athanasius_of_Alexandria   \n",
       "2  57325b9fe99e3014001e670c     Jehovah%27s_Witnesses   \n",
       "3  5728d8be4b864d1900164f6b                   Estonia   \n",
       "4  56f6f5e1711bf01900a44898           Classical_music   \n",
       "\n",
       "                                             context  \\\n",
       "0  The Roman Catholic Church canon law also inclu...   \n",
       "1  Alexandria was the most important trade center...   \n",
       "2  Former members Heather and Gary Botting compar...   \n",
       "3  Historically, the cuisine of Estonia has been ...   \n",
       "4  Many of the instruments used to perform mediev...   \n",
       "\n",
       "                                            question  \\\n",
       "0  What term characterizes the intersection of th...   \n",
       "1                     What was Alexandria known for?   \n",
       "2  How do the leaders of the Jehovah's Witnesses ...   \n",
       "3         What are the most common foods in Estonia?   \n",
       "4             What was the medieval flute made from?   \n",
       "\n",
       "                                             answers  \n",
       "0    {'text': ['full union'], 'answer_start': [104]}  \n",
       "1  {'text': ['important trade center'], 'answer_s...  \n",
       "2  {'text': ['disparaging individual decision-mak...  \n",
       "3  {'text': ['black bread, pork, potatoes, and da...  \n",
       "4          {'text': ['wood'], 'answer_start': [126]}  "
      ]
     },
     "execution_count": 5,
     "metadata": {},
     "output_type": "execute_result"
    }
   ],
   "source": [
    "shuffled_data.head()"
   ]
  },
  {
   "cell_type": "code",
   "execution_count": 16,
   "id": "a4a1808c",
   "metadata": {},
   "outputs": [],
   "source": [
    "#shuffled_data.to_csv(\"data/squad_v2.csv\")"
   ]
  },
  {
   "cell_type": "code",
   "execution_count": 85,
   "id": "f3ab8eee",
   "metadata": {},
   "outputs": [],
   "source": [
    "data = shuffled_data.head(600)"
   ]
  },
  {
   "cell_type": "code",
   "execution_count": null,
   "id": "62b3c5d5",
   "metadata": {},
   "outputs": [],
   "source": [
    "df = pd.DataFrame(data)"
   ]
  },
  {
   "cell_type": "code",
   "execution_count": 87,
   "id": "bfe66101",
   "metadata": {},
   "outputs": [
    {
     "data": {
      "text/plain": [
       "0                     Canon_law\n",
       "1      Athanasius_of_Alexandria\n",
       "2         Jehovah%27s_Witnesses\n",
       "3                       Estonia\n",
       "4               Classical_music\n",
       "                 ...           \n",
       "595     Northwestern_University\n",
       "596                       Paper\n",
       "597                    Zhejiang\n",
       "598    Brigham_Young_University\n",
       "599                     YouTube\n",
       "Name: title, Length: 600, dtype: object"
      ]
     },
     "execution_count": 87,
     "metadata": {},
     "output_type": "execute_result"
    }
   ],
   "source": [
    "df['title']"
   ]
  },
  {
   "cell_type": "code",
   "execution_count": 88,
   "id": "658f7f54",
   "metadata": {},
   "outputs": [
    {
     "data": {
      "text/plain": [
       "309"
      ]
     },
     "execution_count": 88,
     "metadata": {},
     "output_type": "execute_result"
    }
   ],
   "source": [
    "df['title'].nunique()"
   ]
  },
  {
   "cell_type": "code",
   "execution_count": 89,
   "id": "d91313af",
   "metadata": {},
   "outputs": [
    {
     "data": {
      "text/html": [
       "<div>\n",
       "<style scoped>\n",
       "    .dataframe tbody tr th:only-of-type {\n",
       "        vertical-align: middle;\n",
       "    }\n",
       "\n",
       "    .dataframe tbody tr th {\n",
       "        vertical-align: top;\n",
       "    }\n",
       "\n",
       "    .dataframe thead th {\n",
       "        text-align: right;\n",
       "    }\n",
       "</style>\n",
       "<table border=\"1\" class=\"dataframe\">\n",
       "  <thead>\n",
       "    <tr style=\"text-align: right;\">\n",
       "      <th></th>\n",
       "      <th>id</th>\n",
       "      <th>title</th>\n",
       "      <th>context</th>\n",
       "      <th>question</th>\n",
       "      <th>answers</th>\n",
       "    </tr>\n",
       "  </thead>\n",
       "  <tbody>\n",
       "    <tr>\n",
       "      <th>2</th>\n",
       "      <td>57325b9fe99e3014001e670c</td>\n",
       "      <td>Jehovah%27s_Witnesses</td>\n",
       "      <td>Former members Heather and Gary Botting compar...</td>\n",
       "      <td>How do the leaders of the Jehovah's Witnesses ...</td>\n",
       "      <td>{'text': ['disparaging individual decision-mak...</td>\n",
       "    </tr>\n",
       "    <tr>\n",
       "      <th>275</th>\n",
       "      <td>56e10514e3433e1400422ad8</td>\n",
       "      <td>BeiDou_Navigation_Satellite_System</td>\n",
       "      <td>In September 2003, China intended to join the ...</td>\n",
       "      <td>Who said in 2008 that China was unsatisfied wi...</td>\n",
       "      <td>{'text': ['the Hong Kong-based South China Mor...</td>\n",
       "    </tr>\n",
       "    <tr>\n",
       "      <th>241</th>\n",
       "      <td>56f9519a9e9bad19000a0829</td>\n",
       "      <td>Marshall_Islands</td>\n",
       "      <td>The Marshall Islands, officially the Republic ...</td>\n",
       "      <td>On what island is the capital of the Marshall ...</td>\n",
       "      <td>{'text': ['Majuro'], 'answer_start': [692]}</td>\n",
       "    </tr>\n",
       "    <tr>\n",
       "      <th>65</th>\n",
       "      <td>57281d864b864d19001644c6</td>\n",
       "      <td>St._John%27s,_Newfoundland_and_Labrador</td>\n",
       "      <td>Predominantly Christian, the population of St....</td>\n",
       "      <td>What is the largest religion in St. John's?</td>\n",
       "      <td>{'text': ['Christian'], 'answer_start': [14]}</td>\n",
       "    </tr>\n",
       "    <tr>\n",
       "      <th>327</th>\n",
       "      <td>5728d4494b864d1900164eff</td>\n",
       "      <td>Karl_Popper</td>\n",
       "      <td>Popper contrasts his views with the notion of ...</td>\n",
       "      <td>Which aspect of organisms changes most radical...</td>\n",
       "      <td>{'text': ['behaviour'], 'answer_start': [157]}</td>\n",
       "    </tr>\n",
       "  </tbody>\n",
       "</table>\n",
       "</div>"
      ],
      "text/plain": [
       "                           id                                    title  \\\n",
       "2    57325b9fe99e3014001e670c                    Jehovah%27s_Witnesses   \n",
       "275  56e10514e3433e1400422ad8       BeiDou_Navigation_Satellite_System   \n",
       "241  56f9519a9e9bad19000a0829                         Marshall_Islands   \n",
       "65   57281d864b864d19001644c6  St._John%27s,_Newfoundland_and_Labrador   \n",
       "327  5728d4494b864d1900164eff                              Karl_Popper   \n",
       "\n",
       "                                               context  \\\n",
       "2    Former members Heather and Gary Botting compar...   \n",
       "275  In September 2003, China intended to join the ...   \n",
       "241  The Marshall Islands, officially the Republic ...   \n",
       "65   Predominantly Christian, the population of St....   \n",
       "327  Popper contrasts his views with the notion of ...   \n",
       "\n",
       "                                              question  \\\n",
       "2    How do the leaders of the Jehovah's Witnesses ...   \n",
       "275  Who said in 2008 that China was unsatisfied wi...   \n",
       "241  On what island is the capital of the Marshall ...   \n",
       "65         What is the largest religion in St. John's?   \n",
       "327  Which aspect of organisms changes most radical...   \n",
       "\n",
       "                                               answers  \n",
       "2    {'text': ['disparaging individual decision-mak...  \n",
       "275  {'text': ['the Hong Kong-based South China Mor...  \n",
       "241        {'text': ['Majuro'], 'answer_start': [692]}  \n",
       "65       {'text': ['Christian'], 'answer_start': [14]}  \n",
       "327     {'text': ['behaviour'], 'answer_start': [157]}  "
      ]
     },
     "execution_count": 89,
     "metadata": {},
     "output_type": "execute_result"
    }
   ],
   "source": [
    "df.sample(5)"
   ]
  },
  {
   "cell_type": "code",
   "execution_count": 91,
   "id": "e1da28bf",
   "metadata": {},
   "outputs": [],
   "source": [
    "df.to_json(\"data/squad_v2_600.json\", orient=\"records\", indent=2)"
   ]
  },
  {
   "cell_type": "code",
   "execution_count": 92,
   "id": "196fb554",
   "metadata": {},
   "outputs": [],
   "source": [
    "import json\n",
    "\n",
    "with open(\"data/squad_v2_600.json\", \"r\", encoding=\"utf-8\") as f:\n",
    "    data = json.load(f)"
   ]
  },
  {
   "cell_type": "code",
   "execution_count": 93,
   "id": "48b848ea",
   "metadata": {},
   "outputs": [
    {
     "data": {
      "text/plain": [
       "{'id': '57325c2fe99e3014001e6716',\n",
       " 'title': 'Jehovah%27s_Witnesses',\n",
       " 'context': 'Sociologist Rodney Stark states that Jehovah\\'s Witness leaders are \"not always very democratic\" and that members \"are expected to conform to rather strict standards,\" but adds that \"enforcement tends to be very informal, sustained by the close bonds of friendship within the group\", and that Jehovah\\'s Witnesses see themselves as \"part of the power structure rather than subject to it.\" Sociologist Andrew Holden states that most members who join millenarian movements such as Jehovah\\'s Witnesses have made an informed choice. However, he also states that defectors \"are seldom allowed a dignified exit\", and describes the administration as autocratic.',\n",
       " 'question': \"How do Jehovah's Witnesses see themselves in regards to the power structure of the church?\",\n",
       " 'answers': {'text': ['\"part of the power structure rather than subject to it.\"'],\n",
       "  'answer_start': [330]}}"
      ]
     },
     "execution_count": 93,
     "metadata": {},
     "output_type": "execute_result"
    }
   ],
   "source": [
    "data[11]"
   ]
  },
  {
   "cell_type": "code",
   "execution_count": 95,
   "id": "fd556bc1",
   "metadata": {},
   "outputs": [],
   "source": [
    "import json\n",
    "from urllib.parse import unquote\n",
    "\n",
    "def clean_text(value):\n",
    "    \"\"\"Decode unicode escapes and URL encodings in a string.\"\"\"\n",
    "    if not isinstance(value, str):\n",
    "        return value\n",
    "    try:\n",
    "        # Decode URL-encoded characters (%20, %27, etc.)\n",
    "        value = unquote(value)\n",
    "        # Decode unicode escapes (\\u00f3 etc.)\n",
    "        #value = value.encode('utf-8').decode('unicode_escape')\n",
    "        # Decode Python-style backslash escapes (e.g., \\' -> ')\n",
    "        #value = value.encode('utf-8').decode('unicode_escape')\n",
    "        # Replace underscores with spaces in certain cases\n",
    "        value = value.replace('_', ' ')\n",
    "        return value\n",
    "    except Exception:\n",
    "        return value  # Fail silently if decoding fails\n",
    "\n",
    "def clean_data(obj):\n",
    "    \"\"\"Recursively clean all strings in a nested structure.\"\"\"\n",
    "    if isinstance(obj, dict):\n",
    "        return {k: clean_data(v) for k, v in obj.items()}\n",
    "    elif isinstance(obj, list):\n",
    "        return [clean_data(item) for item in obj]\n",
    "    elif isinstance(obj, str):\n",
    "        return clean_text(obj)\n",
    "    else:\n",
    "        return obj\n"
   ]
  },
  {
   "cell_type": "code",
   "execution_count": 96,
   "id": "a3e5543a",
   "metadata": {},
   "outputs": [],
   "source": [
    "cleaned_data = clean_data(data)"
   ]
  },
  {
   "cell_type": "code",
   "execution_count": 102,
   "id": "ebe74a1d",
   "metadata": {},
   "outputs": [
    {
     "data": {
      "text/plain": [
       "'\"part of the power structure rather than subject to it.\"'"
      ]
     },
     "execution_count": 102,
     "metadata": {},
     "output_type": "execute_result"
    }
   ],
   "source": [
    "cleaned_data[11]['answers']['text'][0]#.replace('[', \"]', \"\")"
   ]
  },
  {
   "cell_type": "code",
   "execution_count": null,
   "id": "5e9cacc2",
   "metadata": {},
   "outputs": [
    {
     "ename": "IndexError",
     "evalue": "list index out of range",
     "output_type": "error",
     "traceback": [
      "\u001b[31m---------------------------------------------------------------------------\u001b[39m",
      "\u001b[31mIndexError\u001b[39m                                Traceback (most recent call last)",
      "\u001b[36mCell\u001b[39m\u001b[36m \u001b[39m\u001b[32mIn[42]\u001b[39m\u001b[32m, line 6\u001b[39m\n\u001b[32m      4\u001b[39m item[\u001b[33m'\u001b[39m\u001b[33mcontext\u001b[39m\u001b[33m'\u001b[39m] = item[\u001b[33m'\u001b[39m\u001b[33mcontext\u001b[39m\u001b[33m'\u001b[39m].replace(\u001b[33m\"\u001b[39m\u001b[38;5;130;01m\\n\u001b[39;00m\u001b[33m\"\u001b[39m, \u001b[33m\"\u001b[39m\u001b[33m \u001b[39m\u001b[33m\"\u001b[39m)\n\u001b[32m      5\u001b[39m item[\u001b[33m'\u001b[39m\u001b[33mquestion\u001b[39m\u001b[33m'\u001b[39m] = item[\u001b[33m'\u001b[39m\u001b[33mquestion\u001b[39m\u001b[33m'\u001b[39m].replace(\u001b[33m\"\u001b[39m\u001b[38;5;130;01m\\n\u001b[39;00m\u001b[33m\"\u001b[39m, \u001b[33m\"\u001b[39m\u001b[33m \u001b[39m\u001b[33m\"\u001b[39m)\n\u001b[32m----> \u001b[39m\u001b[32m6\u001b[39m item[\u001b[33m'\u001b[39m\u001b[33manswers\u001b[39m\u001b[33m'\u001b[39m] = \u001b[43mitem\u001b[49m\u001b[43m[\u001b[49m\u001b[33;43m'\u001b[39;49m\u001b[33;43manswers\u001b[39;49m\u001b[33;43m'\u001b[39;49m\u001b[43m]\u001b[49m\u001b[43m[\u001b[49m\u001b[33;43m'\u001b[39;49m\u001b[33;43mtext\u001b[39;49m\u001b[33;43m'\u001b[39;49m\u001b[43m]\u001b[49m\u001b[43m[\u001b[49m\u001b[32;43m0\u001b[39;49m\u001b[43m]\u001b[49m\n\u001b[32m      7\u001b[39m documents.append(item)\n",
      "\u001b[31mIndexError\u001b[39m: list index out of range"
     ]
    }
   ],
   "source": [
    "documents = []\n",
    "\n",
    "for item in data:\n",
    "    if not item['answers']['text']:\n",
    "        continue\n",
    "\n",
    "    documents.append({\n",
    "        \"id\": item[\"id\"],\n",
    "        'title': item['title'],\n",
    "        \"context\": item['context'].replace(\"\\n\", \" \"),\n",
    "        \"question\": item['question'].replace(\"\\n\", \" \"),\n",
    "        \"answer\": item['answers']['text'][0]\n",
    "    })"
   ]
  },
  {
   "cell_type": "code",
   "execution_count": null,
   "id": "fc88a13e",
   "metadata": {},
   "outputs": [],
   "source": []
  }
 ],
 "metadata": {
  "kernelspec": {
   "display_name": "llm-project",
   "language": "python",
   "name": "python3"
  },
  "language_info": {
   "codemirror_mode": {
    "name": "ipython",
    "version": 3
   },
   "file_extension": ".py",
   "mimetype": "text/x-python",
   "name": "python",
   "nbconvert_exporter": "python",
   "pygments_lexer": "ipython3",
   "version": "3.12.9"
  }
 },
 "nbformat": 4,
 "nbformat_minor": 5
}
