{
 "cells": [
  {
   "cell_type": "code",
   "execution_count": 3,
   "id": "66ecec8e",
   "metadata": {},
   "outputs": [
    {
     "name": "stderr",
     "output_type": "stream",
     "text": [
      "/home/jaykold/miniconda3/envs/myenv/lib/python3.13/site-packages/tqdm/auto.py:21: TqdmWarning: IProgress not found. Please update jupyter and ipywidgets. See https://ipywidgets.readthedocs.io/en/stable/user_install.html\n",
      "  from .autonotebook import tqdm as notebook_tqdm\n"
     ]
    }
   ],
   "source": [
    "from datasets import load_dataset\n",
    "import pandas as pd"
   ]
  },
  {
   "cell_type": "code",
   "execution_count": 4,
   "id": "956582dc",
   "metadata": {},
   "outputs": [],
   "source": [
    "full_data = load_dataset(\"squad_v2\", split=\"train\")"
   ]
  },
  {
   "cell_type": "code",
   "execution_count": 6,
   "id": "aede461b",
   "metadata": {},
   "outputs": [
    {
     "data": {
      "text/plain": [
       "datasets.arrow_dataset.Dataset"
      ]
     },
     "execution_count": 6,
     "metadata": {},
     "output_type": "execute_result"
    }
   ],
   "source": [
    "shuffled_data = full_data.shuffle(seed=42)\n",
    "\n",
    "type(shuffled_data)"
   ]
  },
  {
   "cell_type": "code",
   "execution_count": 8,
   "id": "f786366d",
   "metadata": {},
   "outputs": [],
   "source": [
    "shuffled_data = pd.DataFrame(shuffled_data)"
   ]
  },
  {
   "cell_type": "code",
   "execution_count": 9,
   "id": "e3409ccb",
   "metadata": {},
   "outputs": [
    {
     "data": {
      "text/html": [
       "<div>\n",
       "<style scoped>\n",
       "    .dataframe tbody tr th:only-of-type {\n",
       "        vertical-align: middle;\n",
       "    }\n",
       "\n",
       "    .dataframe tbody tr th {\n",
       "        vertical-align: top;\n",
       "    }\n",
       "\n",
       "    .dataframe thead th {\n",
       "        text-align: right;\n",
       "    }\n",
       "</style>\n",
       "<table border=\"1\" class=\"dataframe\">\n",
       "  <thead>\n",
       "    <tr style=\"text-align: right;\">\n",
       "      <th></th>\n",
       "      <th>id</th>\n",
       "      <th>title</th>\n",
       "      <th>context</th>\n",
       "      <th>question</th>\n",
       "      <th>answers</th>\n",
       "    </tr>\n",
       "  </thead>\n",
       "  <tbody>\n",
       "    <tr>\n",
       "      <th>0</th>\n",
       "      <td>56e0f3907aa994140058e80a</td>\n",
       "      <td>Canon_law</td>\n",
       "      <td>The Roman Catholic Church canon law also inclu...</td>\n",
       "      <td>What term characterizes the intersection of th...</td>\n",
       "      <td>{'text': ['full union'], 'answer_start': [104]}</td>\n",
       "    </tr>\n",
       "    <tr>\n",
       "      <th>1</th>\n",
       "      <td>571adcf932177014007e9f56</td>\n",
       "      <td>Athanasius_of_Alexandria</td>\n",
       "      <td>Alexandria was the most important trade center...</td>\n",
       "      <td>What was Alexandria known for?</td>\n",
       "      <td>{'text': ['important trade center'], 'answer_s...</td>\n",
       "    </tr>\n",
       "    <tr>\n",
       "      <th>2</th>\n",
       "      <td>57325b9fe99e3014001e670c</td>\n",
       "      <td>Jehovah%27s_Witnesses</td>\n",
       "      <td>Former members Heather and Gary Botting compar...</td>\n",
       "      <td>How do the leaders of the Jehovah's Witnesses ...</td>\n",
       "      <td>{'text': ['disparaging individual decision-mak...</td>\n",
       "    </tr>\n",
       "    <tr>\n",
       "      <th>3</th>\n",
       "      <td>5728d8be4b864d1900164f6b</td>\n",
       "      <td>Estonia</td>\n",
       "      <td>Historically, the cuisine of Estonia has been ...</td>\n",
       "      <td>What are the most common foods in Estonia?</td>\n",
       "      <td>{'text': ['black bread, pork, potatoes, and da...</td>\n",
       "    </tr>\n",
       "    <tr>\n",
       "      <th>4</th>\n",
       "      <td>56f6f5e1711bf01900a44898</td>\n",
       "      <td>Classical_music</td>\n",
       "      <td>Many of the instruments used to perform mediev...</td>\n",
       "      <td>What was the medieval flute made from?</td>\n",
       "      <td>{'text': ['wood'], 'answer_start': [126]}</td>\n",
       "    </tr>\n",
       "  </tbody>\n",
       "</table>\n",
       "</div>"
      ],
      "text/plain": [
       "                         id                     title  \\\n",
       "0  56e0f3907aa994140058e80a                 Canon_law   \n",
       "1  571adcf932177014007e9f56  Athanasius_of_Alexandria   \n",
       "2  57325b9fe99e3014001e670c     Jehovah%27s_Witnesses   \n",
       "3  5728d8be4b864d1900164f6b                   Estonia   \n",
       "4  56f6f5e1711bf01900a44898           Classical_music   \n",
       "\n",
       "                                             context  \\\n",
       "0  The Roman Catholic Church canon law also inclu...   \n",
       "1  Alexandria was the most important trade center...   \n",
       "2  Former members Heather and Gary Botting compar...   \n",
       "3  Historically, the cuisine of Estonia has been ...   \n",
       "4  Many of the instruments used to perform mediev...   \n",
       "\n",
       "                                            question  \\\n",
       "0  What term characterizes the intersection of th...   \n",
       "1                     What was Alexandria known for?   \n",
       "2  How do the leaders of the Jehovah's Witnesses ...   \n",
       "3         What are the most common foods in Estonia?   \n",
       "4             What was the medieval flute made from?   \n",
       "\n",
       "                                             answers  \n",
       "0    {'text': ['full union'], 'answer_start': [104]}  \n",
       "1  {'text': ['important trade center'], 'answer_s...  \n",
       "2  {'text': ['disparaging individual decision-mak...  \n",
       "3  {'text': ['black bread, pork, potatoes, and da...  \n",
       "4          {'text': ['wood'], 'answer_start': [126]}  "
      ]
     },
     "execution_count": 9,
     "metadata": {},
     "output_type": "execute_result"
    }
   ],
   "source": [
    "shuffled_data.head()"
   ]
  },
  {
   "cell_type": "code",
   "execution_count": 11,
   "id": "a4a1808c",
   "metadata": {},
   "outputs": [],
   "source": [
    "#shuffled_data.to_csv(\"data/squad_v2.csv\")"
   ]
  },
  {
   "cell_type": "code",
   "execution_count": null,
   "id": "f3ab8eee",
   "metadata": {},
   "outputs": [
    {
     "data": {
      "text/html": [
       "<div>\n",
       "<style scoped>\n",
       "    .dataframe tbody tr th:only-of-type {\n",
       "        vertical-align: middle;\n",
       "    }\n",
       "\n",
       "    .dataframe tbody tr th {\n",
       "        vertical-align: top;\n",
       "    }\n",
       "\n",
       "    .dataframe thead th {\n",
       "        text-align: right;\n",
       "    }\n",
       "</style>\n",
       "<table border=\"1\" class=\"dataframe\">\n",
       "  <thead>\n",
       "    <tr style=\"text-align: right;\">\n",
       "      <th></th>\n",
       "      <th>id</th>\n",
       "      <th>title</th>\n",
       "      <th>context</th>\n",
       "      <th>question</th>\n",
       "      <th>answers</th>\n",
       "    </tr>\n",
       "  </thead>\n",
       "  <tbody>\n",
       "    <tr>\n",
       "      <th>0</th>\n",
       "      <td>56e0f3907aa994140058e80a</td>\n",
       "      <td>Canon_law</td>\n",
       "      <td>The Roman Catholic Church canon law also inclu...</td>\n",
       "      <td>What term characterizes the intersection of th...</td>\n",
       "      <td>{'text': ['full union'], 'answer_start': [104]}</td>\n",
       "    </tr>\n",
       "    <tr>\n",
       "      <th>1</th>\n",
       "      <td>571adcf932177014007e9f56</td>\n",
       "      <td>Athanasius_of_Alexandria</td>\n",
       "      <td>Alexandria was the most important trade center...</td>\n",
       "      <td>What was Alexandria known for?</td>\n",
       "      <td>{'text': ['important trade center'], 'answer_s...</td>\n",
       "    </tr>\n",
       "    <tr>\n",
       "      <th>2</th>\n",
       "      <td>57325b9fe99e3014001e670c</td>\n",
       "      <td>Jehovah%27s_Witnesses</td>\n",
       "      <td>Former members Heather and Gary Botting compar...</td>\n",
       "      <td>How do the leaders of the Jehovah's Witnesses ...</td>\n",
       "      <td>{'text': ['disparaging individual decision-mak...</td>\n",
       "    </tr>\n",
       "    <tr>\n",
       "      <th>3</th>\n",
       "      <td>5728d8be4b864d1900164f6b</td>\n",
       "      <td>Estonia</td>\n",
       "      <td>Historically, the cuisine of Estonia has been ...</td>\n",
       "      <td>What are the most common foods in Estonia?</td>\n",
       "      <td>{'text': ['black bread, pork, potatoes, and da...</td>\n",
       "    </tr>\n",
       "    <tr>\n",
       "      <th>4</th>\n",
       "      <td>56f6f5e1711bf01900a44898</td>\n",
       "      <td>Classical_music</td>\n",
       "      <td>Many of the instruments used to perform mediev...</td>\n",
       "      <td>What was the medieval flute made from?</td>\n",
       "      <td>{'text': ['wood'], 'answer_start': [126]}</td>\n",
       "    </tr>\n",
       "    <tr>\n",
       "      <th>...</th>\n",
       "      <td>...</td>\n",
       "      <td>...</td>\n",
       "      <td>...</td>\n",
       "      <td>...</td>\n",
       "      <td>...</td>\n",
       "    </tr>\n",
       "    <tr>\n",
       "      <th>995</th>\n",
       "      <td>56def0acc65bf219000b3e3d</td>\n",
       "      <td>Christian</td>\n",
       "      <td>There are diverse interpretations of Christian...</td>\n",
       "      <td>Whether one partakes in practices or beliefs, ...</td>\n",
       "      <td>{'text': ['the cultural aspects of Christianit...</td>\n",
       "    </tr>\n",
       "    <tr>\n",
       "      <th>996</th>\n",
       "      <td>5726d83d708984140094d334</td>\n",
       "      <td>Law_of_the_United_States</td>\n",
       "      <td>Federal law and treaties, so long as they are ...</td>\n",
       "      <td>American Federalism can also be considered tri...</td>\n",
       "      <td>{'text': ['Indian reservations'], 'answer_star...</td>\n",
       "    </tr>\n",
       "    <tr>\n",
       "      <th>997</th>\n",
       "      <td>5a7b6e4f21c2de001afea006</td>\n",
       "      <td>Transistor</td>\n",
       "      <td>In a grounded-emitter transistor circuit, such...</td>\n",
       "      <td>What changes the most in a grounded-emitter tr...</td>\n",
       "      <td>{'text': [], 'answer_start': []}</td>\n",
       "    </tr>\n",
       "    <tr>\n",
       "      <th>998</th>\n",
       "      <td>5ad4c8515b96ef001a10a06a</td>\n",
       "      <td>Steven_Spielberg</td>\n",
       "      <td>In June 2006, Steven Spielberg announced he wo...</td>\n",
       "      <td>In what year did Jonathan Nolan become a scree...</td>\n",
       "      <td>{'text': [], 'answer_start': []}</td>\n",
       "    </tr>\n",
       "    <tr>\n",
       "      <th>999</th>\n",
       "      <td>5731e1b0e99e3014001e63a4</td>\n",
       "      <td>Bras%C3%ADlia</td>\n",
       "      <td>Brasília has also been the focus of modern-day...</td>\n",
       "      <td>When was 'The World In Grey' published?</td>\n",
       "      <td>{'text': ['2008'], 'answer_start': [72]}</td>\n",
       "    </tr>\n",
       "  </tbody>\n",
       "</table>\n",
       "<p>1000 rows × 5 columns</p>\n",
       "</div>"
      ],
      "text/plain": [
       "                           id                     title  \\\n",
       "0    56e0f3907aa994140058e80a                 Canon_law   \n",
       "1    571adcf932177014007e9f56  Athanasius_of_Alexandria   \n",
       "2    57325b9fe99e3014001e670c     Jehovah%27s_Witnesses   \n",
       "3    5728d8be4b864d1900164f6b                   Estonia   \n",
       "4    56f6f5e1711bf01900a44898           Classical_music   \n",
       "..                        ...                       ...   \n",
       "995  56def0acc65bf219000b3e3d                 Christian   \n",
       "996  5726d83d708984140094d334  Law_of_the_United_States   \n",
       "997  5a7b6e4f21c2de001afea006                Transistor   \n",
       "998  5ad4c8515b96ef001a10a06a          Steven_Spielberg   \n",
       "999  5731e1b0e99e3014001e63a4             Bras%C3%ADlia   \n",
       "\n",
       "                                               context  \\\n",
       "0    The Roman Catholic Church canon law also inclu...   \n",
       "1    Alexandria was the most important trade center...   \n",
       "2    Former members Heather and Gary Botting compar...   \n",
       "3    Historically, the cuisine of Estonia has been ...   \n",
       "4    Many of the instruments used to perform mediev...   \n",
       "..                                                 ...   \n",
       "995  There are diverse interpretations of Christian...   \n",
       "996  Federal law and treaties, so long as they are ...   \n",
       "997  In a grounded-emitter transistor circuit, such...   \n",
       "998  In June 2006, Steven Spielberg announced he wo...   \n",
       "999  Brasília has also been the focus of modern-day...   \n",
       "\n",
       "                                              question  \\\n",
       "0    What term characterizes the intersection of th...   \n",
       "1                       What was Alexandria known for?   \n",
       "2    How do the leaders of the Jehovah's Witnesses ...   \n",
       "3           What are the most common foods in Estonia?   \n",
       "4               What was the medieval flute made from?   \n",
       "..                                                 ...   \n",
       "995  Whether one partakes in practices or beliefs, ...   \n",
       "996  American Federalism can also be considered tri...   \n",
       "997  What changes the most in a grounded-emitter tr...   \n",
       "998  In what year did Jonathan Nolan become a scree...   \n",
       "999            When was 'The World In Grey' published?   \n",
       "\n",
       "                                               answers  \n",
       "0      {'text': ['full union'], 'answer_start': [104]}  \n",
       "1    {'text': ['important trade center'], 'answer_s...  \n",
       "2    {'text': ['disparaging individual decision-mak...  \n",
       "3    {'text': ['black bread, pork, potatoes, and da...  \n",
       "4            {'text': ['wood'], 'answer_start': [126]}  \n",
       "..                                                 ...  \n",
       "995  {'text': ['the cultural aspects of Christianit...  \n",
       "996  {'text': ['Indian reservations'], 'answer_star...  \n",
       "997                   {'text': [], 'answer_start': []}  \n",
       "998                   {'text': [], 'answer_start': []}  \n",
       "999           {'text': ['2008'], 'answer_start': [72]}  \n",
       "\n",
       "[1000 rows x 5 columns]"
      ]
     },
     "execution_count": 15,
     "metadata": {},
     "output_type": "execute_result"
    }
   ],
   "source": [
    "data = shuffled_data.head(1000)"
   ]
  },
  {
   "cell_type": "code",
   "execution_count": 32,
   "id": "4f3cbf89",
   "metadata": {},
   "outputs": [],
   "source": [
    "title = data.iloc[999]['title']\n",
    "\n",
    "sx = data[data['title'] == title]['answers']"
   ]
  },
  {
   "cell_type": "code",
   "execution_count": 23,
   "id": "62b3c5d5",
   "metadata": {},
   "outputs": [],
   "source": [
    "data['title']\n",
    "df = pd.DataFrame(data)"
   ]
  },
  {
   "cell_type": "code",
   "execution_count": 34,
   "id": "bfe66101",
   "metadata": {},
   "outputs": [
    {
     "ename": "NameError",
     "evalue": "name 'df' is not defined",
     "output_type": "error",
     "traceback": [
      "\u001b[31m---------------------------------------------------------------------------\u001b[39m",
      "\u001b[31mNameError\u001b[39m                                 Traceback (most recent call last)",
      "\u001b[36mCell\u001b[39m\u001b[36m \u001b[39m\u001b[32mIn[34]\u001b[39m\u001b[32m, line 1\u001b[39m\n\u001b[32m----> \u001b[39m\u001b[32m1\u001b[39m \u001b[43mdf\u001b[49m[\u001b[33m'\u001b[39m\u001b[33mtitle\u001b[39m\u001b[33m'\u001b[39m]\n",
      "\u001b[31mNameError\u001b[39m: name 'df' is not defined"
     ]
    }
   ],
   "source": [
    "df['title']"
   ]
  },
  {
   "cell_type": "code",
   "execution_count": 31,
   "id": "658f7f54",
   "metadata": {},
   "outputs": [
    {
     "data": {
      "text/plain": [
       "372"
      ]
     },
     "execution_count": 31,
     "metadata": {},
     "output_type": "execute_result"
    }
   ],
   "source": [
    "df['title'].nunique()"
   ]
  },
  {
   "cell_type": "code",
   "execution_count": 1,
   "id": "d91313af",
   "metadata": {},
   "outputs": [
    {
     "ename": "NameError",
     "evalue": "name 'df' is not defined",
     "output_type": "error",
     "traceback": [
      "\u001b[31m---------------------------------------------------------------------------\u001b[39m",
      "\u001b[31mNameError\u001b[39m                                 Traceback (most recent call last)",
      "\u001b[36mCell\u001b[39m\u001b[36m \u001b[39m\u001b[32mIn[1]\u001b[39m\u001b[32m, line 1\u001b[39m\n\u001b[32m----> \u001b[39m\u001b[32m1\u001b[39m \u001b[43mdf\u001b[49m.sample(\u001b[32m5\u001b[39m)\n",
      "\u001b[31mNameError\u001b[39m: name 'df' is not defined"
     ]
    }
   ],
   "source": [
    "df.sample(5)"
   ]
  },
  {
   "cell_type": "code",
   "execution_count": null,
   "id": "637ace19",
   "metadata": {},
   "outputs": [],
   "source": []
  }
 ],
 "metadata": {
  "kernelspec": {
   "display_name": "myenv",
   "language": "python",
   "name": "python3"
  },
  "language_info": {
   "codemirror_mode": {
    "name": "ipython",
    "version": 3
   },
   "file_extension": ".py",
   "mimetype": "text/x-python",
   "name": "python",
   "nbconvert_exporter": "python",
   "pygments_lexer": "ipython3",
   "version": "3.13.5"
  }
 },
 "nbformat": 4,
 "nbformat_minor": 5
}
