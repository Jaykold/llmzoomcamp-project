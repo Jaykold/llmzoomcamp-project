{
 "cells": [
  {
   "cell_type": "code",
   "execution_count": 1,
   "id": "66ecec8e",
   "metadata": {},
   "outputs": [
    {
     "name": "stderr",
     "output_type": "stream",
     "text": [
      "/home/jaykold/dev/llm-project/.venv/lib/python3.12/site-packages/tqdm/auto.py:21: TqdmWarning: IProgress not found. Please update jupyter and ipywidgets. See https://ipywidgets.readthedocs.io/en/stable/user_install.html\n",
      "  from .autonotebook import tqdm as notebook_tqdm\n"
     ]
    }
   ],
   "source": [
    "from datasets import load_dataset\n",
    "import pandas as pd"
   ]
  },
  {
   "cell_type": "code",
   "execution_count": 2,
   "id": "956582dc",
   "metadata": {},
   "outputs": [
    {
     "name": "stderr",
     "output_type": "stream",
     "text": [
      "'(MaxRetryError('HTTPSConnectionPool(host=\\'huggingface.co\\', port=443): Max retries exceeded with url: /datasets/squad_v2/resolve/main/README.md (Caused by NameResolutionError(\"<urllib3.connection.HTTPSConnection object at 0x7fc1fb557230>: Failed to resolve \\'huggingface.co\\' ([Errno -3] Temporary failure in name resolution)\"))'), '(Request ID: 4f133381-de0c-40c7-b529-ae141cec521b)')' thrown while requesting HEAD https://huggingface.co/datasets/squad_v2/resolve/main/README.md\n",
      "Retrying in 1s [Retry 1/5].\n",
      "Generating train split: 100%|██████████| 130319/130319 [00:00<00:00, 211934.08 examples/s]\n",
      "Generating validation split: 100%|██████████| 11873/11873 [00:00<00:00, 193735.64 examples/s]\n"
     ]
    }
   ],
   "source": [
    "full_data = load_dataset(\"squad_v2\", split=\"train\")"
   ]
  },
  {
   "cell_type": "code",
   "execution_count": 3,
   "id": "aede461b",
   "metadata": {},
   "outputs": [
    {
     "data": {
      "text/plain": [
       "datasets.arrow_dataset.Dataset"
      ]
     },
     "execution_count": 3,
     "metadata": {},
     "output_type": "execute_result"
    }
   ],
   "source": [
    "shuffled_data = full_data.shuffle(seed=42)\n",
    "\n",
    "type(shuffled_data)"
   ]
  },
  {
   "cell_type": "code",
   "execution_count": 4,
   "id": "f786366d",
   "metadata": {},
   "outputs": [],
   "source": [
    "shuffled_data = pd.DataFrame(shuffled_data)"
   ]
  },
  {
   "cell_type": "code",
   "execution_count": 5,
   "id": "e3409ccb",
   "metadata": {},
   "outputs": [
    {
     "data": {
      "text/html": [
       "<div>\n",
       "<style scoped>\n",
       "    .dataframe tbody tr th:only-of-type {\n",
       "        vertical-align: middle;\n",
       "    }\n",
       "\n",
       "    .dataframe tbody tr th {\n",
       "        vertical-align: top;\n",
       "    }\n",
       "\n",
       "    .dataframe thead th {\n",
       "        text-align: right;\n",
       "    }\n",
       "</style>\n",
       "<table border=\"1\" class=\"dataframe\">\n",
       "  <thead>\n",
       "    <tr style=\"text-align: right;\">\n",
       "      <th></th>\n",
       "      <th>id</th>\n",
       "      <th>title</th>\n",
       "      <th>context</th>\n",
       "      <th>question</th>\n",
       "      <th>answers</th>\n",
       "    </tr>\n",
       "  </thead>\n",
       "  <tbody>\n",
       "    <tr>\n",
       "      <th>0</th>\n",
       "      <td>56e0f3907aa994140058e80a</td>\n",
       "      <td>Canon_law</td>\n",
       "      <td>The Roman Catholic Church canon law also inclu...</td>\n",
       "      <td>What term characterizes the intersection of th...</td>\n",
       "      <td>{'text': ['full union'], 'answer_start': [104]}</td>\n",
       "    </tr>\n",
       "    <tr>\n",
       "      <th>1</th>\n",
       "      <td>571adcf932177014007e9f56</td>\n",
       "      <td>Athanasius_of_Alexandria</td>\n",
       "      <td>Alexandria was the most important trade center...</td>\n",
       "      <td>What was Alexandria known for?</td>\n",
       "      <td>{'text': ['important trade center'], 'answer_s...</td>\n",
       "    </tr>\n",
       "    <tr>\n",
       "      <th>2</th>\n",
       "      <td>57325b9fe99e3014001e670c</td>\n",
       "      <td>Jehovah%27s_Witnesses</td>\n",
       "      <td>Former members Heather and Gary Botting compar...</td>\n",
       "      <td>How do the leaders of the Jehovah's Witnesses ...</td>\n",
       "      <td>{'text': ['disparaging individual decision-mak...</td>\n",
       "    </tr>\n",
       "    <tr>\n",
       "      <th>3</th>\n",
       "      <td>5728d8be4b864d1900164f6b</td>\n",
       "      <td>Estonia</td>\n",
       "      <td>Historically, the cuisine of Estonia has been ...</td>\n",
       "      <td>What are the most common foods in Estonia?</td>\n",
       "      <td>{'text': ['black bread, pork, potatoes, and da...</td>\n",
       "    </tr>\n",
       "    <tr>\n",
       "      <th>4</th>\n",
       "      <td>56f6f5e1711bf01900a44898</td>\n",
       "      <td>Classical_music</td>\n",
       "      <td>Many of the instruments used to perform mediev...</td>\n",
       "      <td>What was the medieval flute made from?</td>\n",
       "      <td>{'text': ['wood'], 'answer_start': [126]}</td>\n",
       "    </tr>\n",
       "  </tbody>\n",
       "</table>\n",
       "</div>"
      ],
      "text/plain": [
       "                         id                     title  \\\n",
       "0  56e0f3907aa994140058e80a                 Canon_law   \n",
       "1  571adcf932177014007e9f56  Athanasius_of_Alexandria   \n",
       "2  57325b9fe99e3014001e670c     Jehovah%27s_Witnesses   \n",
       "3  5728d8be4b864d1900164f6b                   Estonia   \n",
       "4  56f6f5e1711bf01900a44898           Classical_music   \n",
       "\n",
       "                                             context  \\\n",
       "0  The Roman Catholic Church canon law also inclu...   \n",
       "1  Alexandria was the most important trade center...   \n",
       "2  Former members Heather and Gary Botting compar...   \n",
       "3  Historically, the cuisine of Estonia has been ...   \n",
       "4  Many of the instruments used to perform mediev...   \n",
       "\n",
       "                                            question  \\\n",
       "0  What term characterizes the intersection of th...   \n",
       "1                     What was Alexandria known for?   \n",
       "2  How do the leaders of the Jehovah's Witnesses ...   \n",
       "3         What are the most common foods in Estonia?   \n",
       "4             What was the medieval flute made from?   \n",
       "\n",
       "                                             answers  \n",
       "0    {'text': ['full union'], 'answer_start': [104]}  \n",
       "1  {'text': ['important trade center'], 'answer_s...  \n",
       "2  {'text': ['disparaging individual decision-mak...  \n",
       "3  {'text': ['black bread, pork, potatoes, and da...  \n",
       "4          {'text': ['wood'], 'answer_start': [126]}  "
      ]
     },
     "execution_count": 5,
     "metadata": {},
     "output_type": "execute_result"
    }
   ],
   "source": [
    "shuffled_data.head()"
   ]
  },
  {
   "cell_type": "code",
   "execution_count": 16,
   "id": "a4a1808c",
   "metadata": {},
   "outputs": [],
   "source": [
    "#shuffled_data.to_csv(\"data/squad_v2.csv\")"
   ]
  },
  {
   "cell_type": "code",
   "execution_count": 7,
   "id": "f3ab8eee",
   "metadata": {},
   "outputs": [],
   "source": [
    "data = shuffled_data.head(500)"
   ]
  },
  {
   "cell_type": "code",
   "execution_count": 8,
   "id": "4f3cbf89",
   "metadata": {},
   "outputs": [],
   "source": [
    "title = data.iloc[90]['title']\n",
    "\n",
    "sx = data[data['title'] == title]['answers']"
   ]
  },
  {
   "cell_type": "code",
   "execution_count": 12,
   "id": "62b3c5d5",
   "metadata": {},
   "outputs": [],
   "source": [
    "data['title']\n",
    "df = pd.DataFrame(data)"
   ]
  },
  {
   "cell_type": "code",
   "execution_count": 13,
   "id": "bfe66101",
   "metadata": {},
   "outputs": [
    {
     "data": {
      "text/plain": [
       "0                     Canon_law\n",
       "1      Athanasius_of_Alexandria\n",
       "2         Jehovah%27s_Witnesses\n",
       "3                       Estonia\n",
       "4               Classical_music\n",
       "                 ...           \n",
       "495       Alexander_Graham_Bell\n",
       "496          Chinese_characters\n",
       "497               War_on_Terror\n",
       "498              Roman_Republic\n",
       "499      Professional_wrestling\n",
       "Name: title, Length: 500, dtype: object"
      ]
     },
     "execution_count": 13,
     "metadata": {},
     "output_type": "execute_result"
    }
   ],
   "source": [
    "df['title']"
   ]
  },
  {
   "cell_type": "code",
   "execution_count": 14,
   "id": "658f7f54",
   "metadata": {},
   "outputs": [
    {
     "data": {
      "text/plain": [
       "285"
      ]
     },
     "execution_count": 14,
     "metadata": {},
     "output_type": "execute_result"
    }
   ],
   "source": [
    "df['title'].nunique()"
   ]
  },
  {
   "cell_type": "code",
   "execution_count": 15,
   "id": "d91313af",
   "metadata": {},
   "outputs": [
    {
     "data": {
      "text/html": [
       "<div>\n",
       "<style scoped>\n",
       "    .dataframe tbody tr th:only-of-type {\n",
       "        vertical-align: middle;\n",
       "    }\n",
       "\n",
       "    .dataframe tbody tr th {\n",
       "        vertical-align: top;\n",
       "    }\n",
       "\n",
       "    .dataframe thead th {\n",
       "        text-align: right;\n",
       "    }\n",
       "</style>\n",
       "<table border=\"1\" class=\"dataframe\">\n",
       "  <thead>\n",
       "    <tr style=\"text-align: right;\">\n",
       "      <th></th>\n",
       "      <th>id</th>\n",
       "      <th>title</th>\n",
       "      <th>context</th>\n",
       "      <th>question</th>\n",
       "      <th>answers</th>\n",
       "    </tr>\n",
       "  </thead>\n",
       "  <tbody>\n",
       "    <tr>\n",
       "      <th>313</th>\n",
       "      <td>57262bce89a1e219009ac4f5</td>\n",
       "      <td>Royal_Dutch_Shell</td>\n",
       "      <td>Through most of Shell's early history, the She...</td>\n",
       "      <td>In what year did Royal Dutch Shell make a bid ...</td>\n",
       "      <td>{'text': ['1984'], 'answer_start': [282]}</td>\n",
       "    </tr>\n",
       "    <tr>\n",
       "      <th>362</th>\n",
       "      <td>5ace430732bba1001ae4a10c</td>\n",
       "      <td>Madrasa</td>\n",
       "      <td>The Arabic term ijāzat al-tadrīs was awarded t...</td>\n",
       "      <td>Who awarded a teaching license in non-Islamic...</td>\n",
       "      <td>{'text': [], 'answer_start': []}</td>\n",
       "    </tr>\n",
       "    <tr>\n",
       "      <th>224</th>\n",
       "      <td>57096178ed30961900e8402f</td>\n",
       "      <td>Himachal_Pradesh</td>\n",
       "      <td>The history of the area that now constitutes H...</td>\n",
       "      <td>When did Mahmud Ghanznavi conquer Kangara?</td>\n",
       "      <td>{'text': ['10th century'], 'answer_start': [759]}</td>\n",
       "    </tr>\n",
       "    <tr>\n",
       "      <th>139</th>\n",
       "      <td>5ace9ee632bba1001ae4ad6e</td>\n",
       "      <td>Brigham_Young_University</td>\n",
       "      <td>BYU accepted 49 percent of the 11,423 people w...</td>\n",
       "      <td>What did BYU have 28 of in 2006?</td>\n",
       "      <td>{'text': [], 'answer_start': []}</td>\n",
       "    </tr>\n",
       "    <tr>\n",
       "      <th>414</th>\n",
       "      <td>570d98dddf2f5219002ed006</td>\n",
       "      <td>Anti-aircraft_warfare</td>\n",
       "      <td>The Germans developed massive reinforced concr...</td>\n",
       "      <td>What was placed on the blockhouses by the Germ...</td>\n",
       "      <td>{'text': ['anti-aircraft artillery'], 'answer_...</td>\n",
       "    </tr>\n",
       "  </tbody>\n",
       "</table>\n",
       "</div>"
      ],
      "text/plain": [
       "                           id                     title  \\\n",
       "313  57262bce89a1e219009ac4f5         Royal_Dutch_Shell   \n",
       "362  5ace430732bba1001ae4a10c                   Madrasa   \n",
       "224  57096178ed30961900e8402f          Himachal_Pradesh   \n",
       "139  5ace9ee632bba1001ae4ad6e  Brigham_Young_University   \n",
       "414  570d98dddf2f5219002ed006     Anti-aircraft_warfare   \n",
       "\n",
       "                                               context  \\\n",
       "313  Through most of Shell's early history, the She...   \n",
       "362  The Arabic term ijāzat al-tadrīs was awarded t...   \n",
       "224  The history of the area that now constitutes H...   \n",
       "139  BYU accepted 49 percent of the 11,423 people w...   \n",
       "414  The Germans developed massive reinforced concr...   \n",
       "\n",
       "                                              question  \\\n",
       "313  In what year did Royal Dutch Shell make a bid ...   \n",
       "362   Who awarded a teaching license in non-Islamic...   \n",
       "224         When did Mahmud Ghanznavi conquer Kangara?   \n",
       "139                   What did BYU have 28 of in 2006?   \n",
       "414  What was placed on the blockhouses by the Germ...   \n",
       "\n",
       "                                               answers  \n",
       "313          {'text': ['1984'], 'answer_start': [282]}  \n",
       "362                   {'text': [], 'answer_start': []}  \n",
       "224  {'text': ['10th century'], 'answer_start': [759]}  \n",
       "139                   {'text': [], 'answer_start': []}  \n",
       "414  {'text': ['anti-aircraft artillery'], 'answer_...  "
      ]
     },
     "execution_count": 15,
     "metadata": {},
     "output_type": "execute_result"
    }
   ],
   "source": [
    "df.sample(5)"
   ]
  },
  {
   "cell_type": "code",
   "execution_count": null,
   "id": "637ace19",
   "metadata": {},
   "outputs": [],
   "source": []
  }
 ],
 "metadata": {
  "kernelspec": {
   "display_name": "llm-project",
   "language": "python",
   "name": "python3"
  },
  "language_info": {
   "codemirror_mode": {
    "name": "ipython",
    "version": 3
   },
   "file_extension": ".py",
   "mimetype": "text/x-python",
   "name": "python",
   "nbconvert_exporter": "python",
   "pygments_lexer": "ipython3",
   "version": "3.12.9"
  }
 },
 "nbformat": 4,
 "nbformat_minor": 5
}
